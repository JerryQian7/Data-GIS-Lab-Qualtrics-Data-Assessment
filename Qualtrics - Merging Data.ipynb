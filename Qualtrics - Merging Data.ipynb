{
 "cells": [
  {
   "cell_type": "markdown",
   "metadata": {
    "collapsed": false
   },
   "source": [
    "# Merging LibAnalytics and Qualtrics Data\n",
    "---"
   ]
  },
  {
   "cell_type": "code",
   "execution_count": 2,
   "metadata": {
    "collapsed": true
   },
   "outputs": [],
   "source": [
    "import pandas as pd \n",
    "import os\n",
    "from IPython.display import display\n",
    "\n",
    "\n",
    "lib = pd.read_csv(r'C:\\Users\\lib-jeq004\\Downloads\\LibAnalytics.csv')\n",
    "qual = pd.read_csv(r'C:\\Users\\lib-jeq004\\Downloads\\Qualtrics.csv')\n",
    "new_qual = pd.read_csv(r'C:\\Users\\lib-jeq004\\Downloads\\Qualtrics - 2018_07_03 - 2019_07_03.csv')\n",
    "\n",
    "lib_analytics = lib.copy()\n",
    "qual_copy = qual.copy()\n",
    "new_qualtrics = new_qual.copy()\n"
   ]
  },
  {
   "cell_type": "markdown",
   "metadata": {},
   "source": [
    "Concatenating the old and new qualtrics datasets"
   ]
  },
  {
   "cell_type": "code",
   "execution_count": 3,
   "metadata": {
    "collapsed": false
   },
   "outputs": [],
   "source": [
    "qualtrics = pd.concat([qual_copy, new_qualtrics]).drop_duplicates().reset_index(drop=True)"
   ]
  },
  {
   "cell_type": "markdown",
   "metadata": {},
   "source": [
    "Cleaning, dropping, and selecting the correct columns from each dataset."
   ]
  },
  {
   "cell_type": "code",
   "execution_count": 4,
   "metadata": {
    "collapsed": false
   },
   "outputs": [],
   "source": [
    "lib_analytics = lib_analytics[['Start Date', 'Start Time', 'Entered by', 'Notes', 'Purpose of Visit', 'Duration of Question'\n",
    "                              , 'Department or Major', 'Additional Information']]\n",
    "\n",
    "lib_analytics = lib_analytics.reset_index().drop([ 'index'], axis=1)"
   ]
  },
  {
   "cell_type": "code",
   "execution_count": 5,
   "metadata": {
    "collapsed": false
   },
   "outputs": [],
   "source": [
    "qualtrics = qualtrics[['Q2', 'Q49', 'Q50', 'Q51','Q52','Q89', 'Q90', 'Q53', 'Q91', 'Q54', 'Q55']]\n",
    "qualtrics.columns = ['Entered by', 'Type of Entry', 'User Type', 'Department or Major', 'Purpose of Visit', \n",
    "                     'Start Date','Start Time','Type of Question', 'Additional Information', 'Notes', 'Duration of Question']"
   ]
  },
  {
   "cell_type": "code",
   "execution_count": 6,
   "metadata": {
    "collapsed": false
   },
   "outputs": [],
   "source": [
    "qualtrics['Purpose of Visit'] = qualtrics['Purpose of Visit'].fillna(qualtrics['Type of Question'])\n",
    "qualtrics = qualtrics.drop(['Type of Question', 'Type of Entry'], axis=1)\n",
    "qualtrics = qualtrics.drop([0,1]).reindex(index=qualtrics.index[::-1])\n"
   ]
  },
  {
   "cell_type": "markdown",
   "metadata": {
    "collapsed": false
   },
   "source": [
    "Concatenating the two main datasets and exporting as a .csv file."
   ]
  },
  {
   "cell_type": "code",
   "execution_count": 18,
   "metadata": {
    "collapsed": false
   },
   "outputs": [],
   "source": [
    "df = pd.concat([qualtrics, lib_analytics])\n",
    "df = df.dropna(how='all')\n",
    "df = df.reset_index()\n",
    "df = df.drop(['index'], axis=1)\n",
    "df = df.drop([383, 384])"
   ]
  },
  {
   "cell_type": "code",
   "execution_count": 19,
   "metadata": {
    "collapsed": false
   },
   "outputs": [],
   "source": [
    "df.to_csv('merged.csv')"
   ]
  },
  {
   "cell_type": "code",
   "execution_count": null,
   "metadata": {
    "collapsed": true
   },
   "outputs": [],
   "source": []
  }
 ],
 "metadata": {
  "anaconda-cloud": {},
  "kernelspec": {
   "display_name": "Python [Root]",
   "language": "python",
   "name": "Python [Root]"
  },
  "language_info": {
   "codemirror_mode": {
    "name": "ipython",
    "version": 3
   },
   "file_extension": ".py",
   "mimetype": "text/x-python",
   "name": "python",
   "nbconvert_exporter": "python",
   "pygments_lexer": "ipython3",
   "version": "3.5.2"
  }
 },
 "nbformat": 4,
 "nbformat_minor": 0
}
